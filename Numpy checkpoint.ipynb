{
 "cells": [
  {
   "cell_type": "code",
   "execution_count": 2,
   "id": "f74fe7ba",
   "metadata": {},
   "outputs": [
    {
     "name": "stdout",
     "output_type": "stream",
     "text": [
      "[1, 2, 3, 4, 5]\n"
     ]
    }
   ],
   "source": [
    "#Question 1\n",
    "#Write a Python program to convert an array to an ordinary list with the same items.\n",
    "#we can use the np.tolist() function\n",
    "\n",
    "import numpy as np\n",
    "monarray1=np.array([1,2,3,4,5])\n",
    "    \n",
    "list2=monarray1.tolist()\n",
    "print(list2)"
   ]
  },
  {
   "cell_type": "code",
   "execution_count": 47,
   "id": "37381970",
   "metadata": {},
   "outputs": [
    {
     "name": "stdout",
     "output_type": "stream",
     "text": [
      "dimension 2\n",
      "index 7\n",
      "i= 0\n",
      "3 -2\n",
      "i= 1\n",
      "8 -3\n",
      "i= 2\n",
      "15 -4\n",
      "somme de la diagonale 15\n",
      "\n",
      "Trace :\n",
      "15\n"
     ]
    }
   ],
   "source": [
    "#Question 2 \n",
    "#Write a NumPy program to compute the sum of the diagonal elements of a given array.\n",
    "#Hint: Two methods to solve this problem: \n",
    "#        1. manually(without direct function).\n",
    "#        2. using the trace function\n",
    "\n",
    "import numpy as np\n",
    "monarray=np.array([[1,2,3],[4,5,6],[7,8,9]])\n",
    "sub=-1\n",
    "A=0\n",
    "print('dimension',monarray.ndim)\n",
    "print('index',monarray[2,-3])\n",
    "for i in range(0,monarray.ndim+1):\n",
    "    print('i=',i)\n",
    "    A=monarray[i,sub]+A\n",
    "    sub=sub-1\n",
    "    print(A,sub)\n",
    "    \n",
    "print('somme de la diagonale',A)\n",
    "\n",
    "# importing Numpy package (methode2)\n",
    "import numpy as np\n",
    "  \n",
    "\n",
    "n_array = np.array([[1, 2, 3],\n",
    "                    [4, 5, 6],\n",
    "                    [7, 8, 9]])\n",
    "  \n",
    "  \n",
    "# calculating the Trace of a matrix\n",
    "trace = np.trace(n_array)\n",
    "  \n",
    "  \n",
    "print(\"\\nTrace :\")\n",
    "print(trace)"
   ]
  },
  {
   "cell_type": "code",
   "execution_count": 42,
   "id": "d1f6409a",
   "metadata": {},
   "outputs": [
    {
     "name": "stdout",
     "output_type": "stream",
     "text": [
      "3\n",
      "3-4-5-6-"
     ]
    }
   ],
   "source": [
    "#Question 3\n",
    "#Given an array of your choice, get all the values higher than X :\n",
    "#if a = [[1,2],[3,5]] and x = 3 :  then 3 and 5 are higher than 2. \n",
    "\n",
    "import numpy as np\n",
    "mon=np.array([[1,2,3],[4,5,6]])\n",
    "nombre=int(input())\n",
    "for x in mon:\n",
    "    for y in x:\n",
    "          if y>=nombre:\n",
    "            print(y,end='-')\n",
    "\n",
    "\n",
    "    \n",
    "    "
   ]
  },
  {
   "cell_type": "code",
   "execution_count": 43,
   "id": "02282cf7",
   "metadata": {},
   "outputs": [
    {
     "name": "stdout",
     "output_type": "stream",
     "text": [
      "[2 3 4 5]\n"
     ]
    }
   ],
   "source": [
    "#Question 4\n",
    "#Given two arrays A&B having the same shape. \n",
    "#The task is to apply addition by hand: C is the new array. \n",
    "import numpy as np\n",
    "A=np.array([1,2,3,4])\n",
    "B=np.array([1,1,1,1])\n",
    "\n",
    "C=A+B\n",
    "print(C)"
   ]
  },
  {
   "cell_type": "code",
   "execution_count": 46,
   "id": "949788ab",
   "metadata": {},
   "outputs": [
    {
     "name": "stdout",
     "output_type": "stream",
     "text": [
      "\n",
      "mean of arr, axis = None :  18.6\n",
      "\n",
      "mean of arr, axis = 0 :  [17.33333333  8.33333333 31.         14.         22.33333333]\n",
      "\n",
      "mean of arr, axis = 1 :  [24.  15.  16.8]\n",
      "La soustraction = 25.8\n"
     ]
    }
   ],
   "source": [
    "#Question 5\n",
    "#Write a NumPy program to subtract the mean of each row of a given matrix.\n",
    "#Hint: use the mean function\n",
    "\n",
    "# numpy.mean() method   \n",
    "import numpy as np\n",
    "    \n",
    "arr = [[14, 17, 12, 33, 44],  \n",
    "       [15, 6, 27, 8, 19], \n",
    "       [23, 2, 54, 1, 4, ]] \n",
    "    \n",
    "# mean of the flattened array \n",
    "print(\"\\nmean of arr, axis = None : \", np.mean(arr)) \n",
    "    \n",
    "# mean along the axis = 0 \n",
    "print(\"\\nmean of arr, axis = 0 : \", np.mean(arr, axis = 0)) \n",
    "row=np.mean(arr, axis=0)\n",
    "# mean along the axis = 1 \n",
    "print(\"\\nmean of arr, axis = 1 : \", np.mean(arr, axis = 1))\n",
    "row2=np.mean(arr,axis=1)\n",
    "sub=0\n",
    "for i in row2:\n",
    "    sub=i-sub\n",
    "\n",
    "print('La soustraction =',abs(sub))"
   ]
  },
  {
   "cell_type": "code",
   "execution_count": null,
   "id": "fc141a5f",
   "metadata": {},
   "outputs": [],
   "source": []
  }
 ],
 "metadata": {
  "kernelspec": {
   "display_name": "Python 3",
   "language": "python",
   "name": "python3"
  },
  "language_info": {
   "codemirror_mode": {
    "name": "ipython",
    "version": 3
   },
   "file_extension": ".py",
   "mimetype": "text/x-python",
   "name": "python",
   "nbconvert_exporter": "python",
   "pygments_lexer": "ipython3",
   "version": "3.8.8"
  }
 },
 "nbformat": 4,
 "nbformat_minor": 5
}
